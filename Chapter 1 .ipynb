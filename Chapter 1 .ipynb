{
 "cells": [
  {
   "cell_type": "markdown",
   "id": "e228d0b3",
   "metadata": {},
   "source": [
    "# Chapter 1 ex. \n",
    "Problems 1, 3, and 4 "
   ]
  },
  {
   "cell_type": "markdown",
   "id": "495e4d34",
   "metadata": {},
   "source": [
    "## EX 1 "
   ]
  },
  {
   "cell_type": "code",
   "execution_count": 3,
   "id": "93e88405",
   "metadata": {},
   "outputs": [
    {
     "name": "stdout",
     "output_type": "stream",
     "text": [
      "This is a test of the Python Interpreter!\n"
     ]
    }
   ],
   "source": [
    "print(\"This is a test of the Python Interpreter!\")"
   ]
  },
  {
   "cell_type": "code",
   "execution_count": 5,
   "id": "4cdcf572",
   "metadata": {},
   "outputs": [
    {
     "name": "stdout",
     "output_type": "stream",
     "text": [
      "Coding is hard but I am trying my best!\n"
     ]
    }
   ],
   "source": [
    "print(\"Coding is hard but I am trying my best!\")"
   ]
  },
  {
   "cell_type": "code",
   "execution_count": 6,
   "id": "ed711538",
   "metadata": {},
   "outputs": [
    {
     "name": "stdout",
     "output_type": "stream",
     "text": [
      "I hope this works:'.9'\n"
     ]
    }
   ],
   "source": [
    "print(\"I hope this works:'.9'\")"
   ]
  },
  {
   "cell_type": "code",
   "execution_count": 7,
   "id": "fb1d4323",
   "metadata": {},
   "outputs": [
    {
     "name": "stdout",
     "output_type": "stream",
     "text": [
      "How to add emojis???\n"
     ]
    }
   ],
   "source": [
    "print(\"How to add emojis???\")"
   ]
  },
  {
   "cell_type": "markdown",
   "id": "b7a74520",
   "metadata": {},
   "source": [
    "## EX. 3 \n"
   ]
  },
  {
   "cell_type": "markdown",
   "id": "bce593a3",
   "metadata": {},
   "source": [
    "How to convert numbers to binary:\n",
    "\n",
    "1. Divide the deciaml number by 2.\n",
    "2. Write down the remainder (0 or 1) \n",
    "3. Divide the quotent \n",
    "4. wrtite down the remainer (if there is one) \n",
    "5. Repeat steps 3 and 4 until the quotent is 0 \n",
    "6. Write down the remainders in inverse order \n",
    "\n",
    "This will give you the binary numbers \n",
    "\n",
    "\n",
    "11= 1011\n",
    "65=1000001\n",
    "100=110100\n",
    "255=1111111\n"
   ]
  },
  {
   "cell_type": "markdown",
   "id": "811b87d8",
   "metadata": {},
   "source": [
    "## EX. 4 "
   ]
  },
  {
   "cell_type": "markdown",
   "id": "01699709",
   "metadata": {},
   "source": [
    "How to convert binary numbers to decimal numbers:\n",
    "\n",
    "1. Start by multiplying each digit by its corresponding value\n",
    "2. add all together \n",
    "\n",
    "1101= 1*2^0 +0*2^1 +1+2^2 and so on.....= 13\n",
    "1000=8\n",
    "101011=43"
   ]
  },
  {
   "cell_type": "code",
   "execution_count": null,
   "id": "b5ffc7aa",
   "metadata": {},
   "outputs": [],
   "source": []
  }
 ],
 "metadata": {
  "kernelspec": {
   "display_name": "Python 3 (ipykernel)",
   "language": "python",
   "name": "python3"
  },
  "language_info": {
   "codemirror_mode": {
    "name": "ipython",
    "version": 3
   },
   "file_extension": ".py",
   "mimetype": "text/x-python",
   "name": "python",
   "nbconvert_exporter": "python",
   "pygments_lexer": "ipython3",
   "version": "3.11.7"
  }
 },
 "nbformat": 4,
 "nbformat_minor": 5
}
